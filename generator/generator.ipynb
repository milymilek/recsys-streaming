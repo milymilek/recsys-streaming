{
 "cells": [
  {
   "cell_type": "code",
   "execution_count": 6,
   "metadata": {},
   "outputs": [],
   "source": [
    "from kafka import KafkaProducer\n",
    "import json"
   ]
  },
  {
   "cell_type": "code",
   "execution_count": 7,
   "metadata": {},
   "outputs": [],
   "source": [
    "producer = KafkaProducer(\n",
    "    bootstrap_servers=['localhost:9092'],\n",
    "    value_serializer=lambda v: json.dumps(v).encode('utf-8')\n",
    ")"
   ]
  },
  {
   "cell_type": "code",
   "execution_count": 28,
   "metadata": {},
   "outputs": [
    {
     "data": {
      "text/plain": [
       "(16, 6)"
      ]
     },
     "execution_count": 28,
     "metadata": {},
     "output_type": "execute_result"
    }
   ],
   "source": []
  },
  {
   "cell_type": "code",
   "execution_count": 67,
   "metadata": {},
   "outputs": [
    {
     "data": {
      "text/plain": [
       "[(1, 0),\n",
       " (2, 1),\n",
       " (3, 2),\n",
       " (4, 3),\n",
       " (5, 4),\n",
       " (6, 5),\n",
       " (7, 4),\n",
       " (8, 3),\n",
       " (9, 2),\n",
       " (10, 1),\n",
       " (11, 0),\n",
       " (12, 1),\n",
       " (13, 2),\n",
       " (14, 3),\n",
       " (15, 4),\n",
       " (16, 5),\n",
       " (17, 4),\n",
       " (18, 3),\n",
       " (19, 2),\n",
       " (20, 1),\n",
       " (21, 0),\n",
       " (22, 1),\n",
       " (23, 2),\n",
       " (24, 3),\n",
       " (25, 4),\n",
       " (26, 5),\n",
       " (27, 4),\n",
       " (28, 3),\n",
       " (29, 2),\n",
       " (30, 1),\n",
       " (31, 0),\n",
       " (32, 1),\n",
       " (33, 2),\n",
       " (34, 3),\n",
       " (35, 4),\n",
       " (36, 5),\n",
       " (37, 4),\n",
       " (38, 3),\n",
       " (39, 2),\n",
       " (40, 1),\n",
       " (41, 0),\n",
       " (42, 1),\n",
       " (43, 2),\n",
       " (44, 3),\n",
       " (45, 4),\n",
       " (46, 5),\n",
       " (47, 4),\n",
       " (48, 3),\n",
       " (49, 2),\n",
       " (50, 1),\n",
       " (51, 0),\n",
       " (52, 1),\n",
       " (53, 2),\n",
       " (54, 3),\n",
       " (55, 4),\n",
       " (56, 5),\n",
       " (57, 4),\n",
       " (58, 3),\n",
       " (59, 2),\n",
       " (60, 1)]"
      ]
     },
     "execution_count": 67,
     "metadata": {},
     "output_type": "execute_result"
    }
   ],
   "source": [
    "list(zip(a, [abs(5 * (((i-1) // 5) % 2) - ((i-1) % 5)) for i in a]))"
   ]
  },
  {
   "cell_type": "code",
   "execution_count": 8,
   "metadata": {},
   "outputs": [],
   "source": [
    "# Check kafka details:\n",
    "#   Enter kafka container: docker exec -it kafka-user-activity-kafka bash\n",
    "#   - create topic: kafka-topics.sh --create --zookeeper zookeeper:2181 --replication-factor 1 --partitions 1 --topic TOPIC_NAME\n",
    "#   - list topics: kafka-topics.sh --list --zookeeper zookeeper:2181\n",
    "#   - list topics details: kafka-topics.sh --describe --zookeeper zookeeper:2181"
   ]
  },
  {
   "cell_type": "code",
   "execution_count": 13,
   "metadata": {},
   "outputs": [],
   "source": [
    "import time\n",
    "\n",
    "def produce_data(producer, topic='user_activity'):\n",
    "    for i in range(100):\n",
    "        producer.send(topic, f\"{i},2,3,4,5\")\n",
    "        time.sleep(0.5)"
   ]
  },
  {
   "cell_type": "code",
   "execution_count": 12,
   "metadata": {},
   "outputs": [],
   "source": [
    "# Verification of kafka topic: \n",
    "#   1. run function `produce_data`\n",
    "#   2. docker exec -it kafka-user-activity-kafka bash\n",
    "#   3. kafka-console-consumer.sh --bootstrap-server localhost:9092 --topic TOPIC_NAME --from-beginning"
   ]
  },
  {
   "cell_type": "code",
   "execution_count": 14,
   "metadata": {},
   "outputs": [
    {
     "ename": "KeyboardInterrupt",
     "evalue": "",
     "output_type": "error",
     "traceback": [
      "\u001b[1;31m---------------------------------------------------------------------------\u001b[0m",
      "\u001b[1;31mKeyboardInterrupt\u001b[0m                         Traceback (most recent call last)",
      "Cell \u001b[1;32mIn[14], line 1\u001b[0m\n\u001b[1;32m----> 1\u001b[0m \u001b[43mproduce_data\u001b[49m\u001b[43m(\u001b[49m\u001b[43mproducer\u001b[49m\u001b[38;5;241;43m=\u001b[39;49m\u001b[43mproducer\u001b[49m\u001b[43m)\u001b[49m\n",
      "Cell \u001b[1;32mIn[13], line 6\u001b[0m, in \u001b[0;36mproduce_data\u001b[1;34m(producer)\u001b[0m\n\u001b[0;32m      4\u001b[0m \u001b[38;5;28;01mfor\u001b[39;00m i \u001b[38;5;129;01min\u001b[39;00m \u001b[38;5;28mrange\u001b[39m(\u001b[38;5;241m100\u001b[39m):\n\u001b[0;32m      5\u001b[0m     producer\u001b[38;5;241m.\u001b[39msend(\u001b[38;5;124m\"\u001b[39m\u001b[38;5;124musers\u001b[39m\u001b[38;5;124m\"\u001b[39m, \u001b[38;5;124mf\u001b[39m\u001b[38;5;124m\"\u001b[39m\u001b[38;5;132;01m{\u001b[39;00mi\u001b[38;5;132;01m}\u001b[39;00m\u001b[38;5;124m,2,3,4,5\u001b[39m\u001b[38;5;124m\"\u001b[39m)\n\u001b[1;32m----> 6\u001b[0m     \u001b[43mtime\u001b[49m\u001b[38;5;241;43m.\u001b[39;49m\u001b[43msleep\u001b[49m\u001b[43m(\u001b[49m\u001b[38;5;241;43m0.5\u001b[39;49m\u001b[43m)\u001b[49m\n",
      "\u001b[1;31mKeyboardInterrupt\u001b[0m: "
     ]
    }
   ],
   "source": [
    "produce_data(producer=producer)"
   ]
  }
 ],
 "metadata": {
  "kernelspec": {
   "display_name": ".venv",
   "language": "python",
   "name": "python3"
  },
  "language_info": {
   "codemirror_mode": {
    "name": "ipython",
    "version": 3
   },
   "file_extension": ".py",
   "mimetype": "text/x-python",
   "name": "python",
   "nbconvert_exporter": "python",
   "pygments_lexer": "ipython3",
   "version": "3.10.4"
  }
 },
 "nbformat": 4,
 "nbformat_minor": 2
}
