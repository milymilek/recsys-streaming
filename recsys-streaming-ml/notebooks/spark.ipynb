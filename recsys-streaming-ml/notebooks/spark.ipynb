{
 "cells": [
  {
   "cell_type": "code",
   "execution_count": 1,
   "metadata": {},
   "outputs": [],
   "source": [
    "from pyspark.ml.functions import predict_batch_udf\n",
    "from pyspark.sql import SparkSession\n",
    "from pyspark.sql.functions import col, from_json, struct, array\n",
    "from pyspark.sql.types import StructType, StructField, StringType, ArrayType, FloatType, Union, Dict"
   ]
  },
  {
   "cell_type": "code",
   "execution_count": 2,
   "metadata": {},
   "outputs": [
    {
     "name": "stdout",
     "output_type": "stream",
     "text": [
      "env: PYSPARK_PYTHON=C:\\Users\\Milosz\\AppData\\Local\\pypoetry\\Cache\\virtualenvs\\recsys-streaming-ml-Mj1TWbkU-py3.10\\Scripts\\python.exe\n"
     ]
    }
   ],
   "source": [
    "%env PYSPARK_PYTHON=C:\\Users\\Milosz\\AppData\\Local\\pypoetry\\Cache\\virtualenvs\\recsys-streaming-ml-Mj1TWbkU-py3.10\\Scripts\\python.exe"
   ]
  },
  {
   "cell_type": "code",
   "execution_count": 3,
   "metadata": {},
   "outputs": [
    {
     "name": "stdout",
     "output_type": "stream",
     "text": [
      "env: PYSPARK_DRIVER_PYTHON=C:\\Users\\Milosz\\AppData\\Local\\pypoetry\\Cache\\virtualenvs\\recsys-streaming-ml-Mj1TWbkU-py3.10\\Scripts\\python.exe\n"
     ]
    }
   ],
   "source": [
    "%env PYSPARK_DRIVER_PYTHON=C:\\Users\\Milosz\\AppData\\Local\\pypoetry\\Cache\\virtualenvs\\recsys-streaming-ml-Mj1TWbkU-py3.10\\Scripts\\python.exe"
   ]
  },
  {
   "cell_type": "code",
   "execution_count": 4,
   "metadata": {},
   "outputs": [],
   "source": [
    "import os\n",
    "os.environ['PYSPARK_SUBMIT_ARGS'] = '--packages org.apache.spark:spark-sql-kafka-0-10_2.12:3.5.1,org.apache.spark:spark-sql-kafka-0-10_2.12:3.5.1 pyspark-shell'"
   ]
  },
  {
   "cell_type": "code",
   "execution_count": 5,
   "metadata": {},
   "outputs": [],
   "source": [
    "KAFKA_BROKER_URL = \"kafka0:9093\"\n",
    "RECOMMENDATIONS_TOPIC = \"recommendations\"\n",
    "USER_ACTIONS_TOPIC = \"users.actions\""
   ]
  },
  {
   "cell_type": "code",
   "execution_count": 6,
   "metadata": {},
   "outputs": [],
   "source": [
    "def predict_batch_fn():\n",
    "    # load model from checkpoint\n",
    "    import torch    \n",
    "    device = torch.device(\"cuda\")\n",
    "    model = Net().to(device)\n",
    "    checkpoint = load_checkpoint(checkpoint_dir)\n",
    "    model.load_state_dict(checkpoint['model'])\n",
    "\n",
    "    # define predict function in terms of numpy arrays\n",
    "    def predict(inputs: np.ndarray) -> np.ndarray:\n",
    "        torch_inputs = torch.from_numpy(inputs).to(device)\n",
    "        outputs = model(torch_inputs)\n",
    "        return outputs.cpu().detach().numpy()\n",
    "    \n",
    "    return predict"
   ]
  },
  {
   "cell_type": "code",
   "execution_count": 7,
   "metadata": {},
   "outputs": [],
   "source": [
    "spark = SparkSession.builder \\\n",
    "        .appName(\"KafkaRead\") \\\n",
    "        .master(\"local[*]\") \\\n",
    "        .config(\"spark.jars.packages\", \"org.apache.spark:spark-sql-kafka-0-10_2.12:3.5.1\") \\\n",
    "        .getOrCreate()"
   ]
  },
  {
   "cell_type": "code",
   "execution_count": 8,
   "metadata": {},
   "outputs": [],
   "source": [
    "schema = StructType([\n",
    "        StructField(\"user_id\", StringType(), True)\n",
    "    ])"
   ]
  },
  {
   "cell_type": "code",
   "execution_count": 9,
   "metadata": {},
   "outputs": [],
   "source": [
    "df = spark.readStream \\\n",
    "    .format(\"kafka\") \\\n",
    "    .option(\"kafka.bootstrap.servers\", KAFKA_BROKER_URL) \\\n",
    "    .option(\"subscribe\", RECOMMENDATIONS_TOPIC) \\\n",
    "    .option(\"startingOffsets\", \"latest\") \\\n",
    "    .load()"
   ]
  },
  {
   "cell_type": "code",
   "execution_count": 11,
   "metadata": {},
   "outputs": [
    {
     "name": "stdout",
     "output_type": "stream",
     "text": [
      "root\n",
      " |-- key: binary (nullable = true)\n",
      " |-- value: binary (nullable = true)\n",
      " |-- topic: string (nullable = true)\n",
      " |-- partition: integer (nullable = true)\n",
      " |-- offset: long (nullable = true)\n",
      " |-- timestamp: timestamp (nullable = true)\n",
      " |-- timestampType: integer (nullable = true)\n",
      "\n"
     ]
    }
   ],
   "source": [
    "df.printSchema()"
   ]
  },
  {
   "cell_type": "code",
   "execution_count": 12,
   "metadata": {},
   "outputs": [],
   "source": [
    "values_df = df.selectExpr(\"CAST(value AS STRING) as json_data\") \\\n",
    "                .select(from_json(col(\"json_data\"), schema).alias(\"data\")) \\\n",
    "                .select(\"data.*\")"
   ]
  },
  {
   "cell_type": "code",
   "execution_count": 18,
   "metadata": {},
   "outputs": [
    {
     "ename": "StreamingQueryException",
     "evalue": "[STREAM_FAILED] Query [id = 84fae067-80d2-44df-b56d-852e529ca430, runId = deda2154-197d-4525-9d8d-abb6e5413f37] terminated with exception: 'boolean org.apache.hadoop.io.nativeio.NativeIO$Windows.access0(java.lang.String, int)'",
     "output_type": "error",
     "traceback": [
      "\u001b[1;31m---------------------------------------------------------------------------\u001b[0m",
      "\u001b[1;31mStreamingQueryException\u001b[0m                   Traceback (most recent call last)",
      "Cell \u001b[1;32mIn[18], line 1\u001b[0m\n\u001b[1;32m----> 1\u001b[0m \u001b[43mvalues_df\u001b[49m\u001b[38;5;241;43m.\u001b[39;49m\u001b[43mwriteStream\u001b[49m\u001b[38;5;241;43m.\u001b[39;49m\u001b[43mformat\u001b[49m\u001b[43m(\u001b[49m\u001b[38;5;124;43m'\u001b[39;49m\u001b[38;5;124;43mconsole\u001b[39;49m\u001b[38;5;124;43m'\u001b[39;49m\u001b[43m)\u001b[49m\u001b[38;5;241;43m.\u001b[39;49m\u001b[43moutputMode\u001b[49m\u001b[43m(\u001b[49m\u001b[38;5;124;43m'\u001b[39;49m\u001b[38;5;124;43mappend\u001b[39;49m\u001b[38;5;124;43m'\u001b[39;49m\u001b[43m)\u001b[49m\u001b[38;5;241;43m.\u001b[39;49m\u001b[43mstart\u001b[49m\u001b[43m(\u001b[49m\u001b[43m)\u001b[49m\u001b[38;5;241;43m.\u001b[39;49m\u001b[43mawaitTermination\u001b[49m\u001b[43m(\u001b[49m\u001b[43m)\u001b[49m\n",
      "File \u001b[1;32mc:\\Users\\Milosz\\AppData\\Local\\pypoetry\\Cache\\virtualenvs\\recsys-streaming-ml-Mj1TWbkU-py3.10\\lib\\site-packages\\pyspark\\sql\\streaming\\query.py:221\u001b[0m, in \u001b[0;36mStreamingQuery.awaitTermination\u001b[1;34m(self, timeout)\u001b[0m\n\u001b[0;32m    219\u001b[0m     \u001b[38;5;28;01mreturn\u001b[39;00m \u001b[38;5;28mself\u001b[39m\u001b[38;5;241m.\u001b[39m_jsq\u001b[38;5;241m.\u001b[39mawaitTermination(\u001b[38;5;28mint\u001b[39m(timeout \u001b[38;5;241m*\u001b[39m \u001b[38;5;241m1000\u001b[39m))\n\u001b[0;32m    220\u001b[0m \u001b[38;5;28;01melse\u001b[39;00m:\n\u001b[1;32m--> 221\u001b[0m     \u001b[38;5;28;01mreturn\u001b[39;00m \u001b[38;5;28;43mself\u001b[39;49m\u001b[38;5;241;43m.\u001b[39;49m\u001b[43m_jsq\u001b[49m\u001b[38;5;241;43m.\u001b[39;49m\u001b[43mawaitTermination\u001b[49m\u001b[43m(\u001b[49m\u001b[43m)\u001b[49m\n",
      "File \u001b[1;32mc:\\Users\\Milosz\\AppData\\Local\\pypoetry\\Cache\\virtualenvs\\recsys-streaming-ml-Mj1TWbkU-py3.10\\lib\\site-packages\\py4j\\java_gateway.py:1322\u001b[0m, in \u001b[0;36mJavaMember.__call__\u001b[1;34m(self, *args)\u001b[0m\n\u001b[0;32m   1316\u001b[0m command \u001b[38;5;241m=\u001b[39m proto\u001b[38;5;241m.\u001b[39mCALL_COMMAND_NAME \u001b[38;5;241m+\u001b[39m\\\n\u001b[0;32m   1317\u001b[0m     \u001b[38;5;28mself\u001b[39m\u001b[38;5;241m.\u001b[39mcommand_header \u001b[38;5;241m+\u001b[39m\\\n\u001b[0;32m   1318\u001b[0m     args_command \u001b[38;5;241m+\u001b[39m\\\n\u001b[0;32m   1319\u001b[0m     proto\u001b[38;5;241m.\u001b[39mEND_COMMAND_PART\n\u001b[0;32m   1321\u001b[0m answer \u001b[38;5;241m=\u001b[39m \u001b[38;5;28mself\u001b[39m\u001b[38;5;241m.\u001b[39mgateway_client\u001b[38;5;241m.\u001b[39msend_command(command)\n\u001b[1;32m-> 1322\u001b[0m return_value \u001b[38;5;241m=\u001b[39m \u001b[43mget_return_value\u001b[49m\u001b[43m(\u001b[49m\n\u001b[0;32m   1323\u001b[0m \u001b[43m    \u001b[49m\u001b[43manswer\u001b[49m\u001b[43m,\u001b[49m\u001b[43m \u001b[49m\u001b[38;5;28;43mself\u001b[39;49m\u001b[38;5;241;43m.\u001b[39;49m\u001b[43mgateway_client\u001b[49m\u001b[43m,\u001b[49m\u001b[43m \u001b[49m\u001b[38;5;28;43mself\u001b[39;49m\u001b[38;5;241;43m.\u001b[39;49m\u001b[43mtarget_id\u001b[49m\u001b[43m,\u001b[49m\u001b[43m \u001b[49m\u001b[38;5;28;43mself\u001b[39;49m\u001b[38;5;241;43m.\u001b[39;49m\u001b[43mname\u001b[49m\u001b[43m)\u001b[49m\n\u001b[0;32m   1325\u001b[0m \u001b[38;5;28;01mfor\u001b[39;00m temp_arg \u001b[38;5;129;01min\u001b[39;00m temp_args:\n\u001b[0;32m   1326\u001b[0m     \u001b[38;5;28;01mif\u001b[39;00m \u001b[38;5;28mhasattr\u001b[39m(temp_arg, \u001b[38;5;124m\"\u001b[39m\u001b[38;5;124m_detach\u001b[39m\u001b[38;5;124m\"\u001b[39m):\n",
      "File \u001b[1;32mc:\\Users\\Milosz\\AppData\\Local\\pypoetry\\Cache\\virtualenvs\\recsys-streaming-ml-Mj1TWbkU-py3.10\\lib\\site-packages\\pyspark\\errors\\exceptions\\captured.py:185\u001b[0m, in \u001b[0;36mcapture_sql_exception.<locals>.deco\u001b[1;34m(*a, **kw)\u001b[0m\n\u001b[0;32m    181\u001b[0m converted \u001b[38;5;241m=\u001b[39m convert_exception(e\u001b[38;5;241m.\u001b[39mjava_exception)\n\u001b[0;32m    182\u001b[0m \u001b[38;5;28;01mif\u001b[39;00m \u001b[38;5;129;01mnot\u001b[39;00m \u001b[38;5;28misinstance\u001b[39m(converted, UnknownException):\n\u001b[0;32m    183\u001b[0m     \u001b[38;5;66;03m# Hide where the exception came from that shows a non-Pythonic\u001b[39;00m\n\u001b[0;32m    184\u001b[0m     \u001b[38;5;66;03m# JVM exception message.\u001b[39;00m\n\u001b[1;32m--> 185\u001b[0m     \u001b[38;5;28;01mraise\u001b[39;00m converted \u001b[38;5;28;01mfrom\u001b[39;00m \u001b[38;5;28;01mNone\u001b[39;00m\n\u001b[0;32m    186\u001b[0m \u001b[38;5;28;01melse\u001b[39;00m:\n\u001b[0;32m    187\u001b[0m     \u001b[38;5;28;01mraise\u001b[39;00m\n",
      "\u001b[1;31mStreamingQueryException\u001b[0m: [STREAM_FAILED] Query [id = 84fae067-80d2-44df-b56d-852e529ca430, runId = deda2154-197d-4525-9d8d-abb6e5413f37] terminated with exception: 'boolean org.apache.hadoop.io.nativeio.NativeIO$Windows.access0(java.lang.String, int)'"
     ]
    }
   ],
   "source": [
    "values_df.writeStream.format('console').outputMode('append').start().awaitTermination()"
   ]
  },
  {
   "cell_type": "code",
   "execution_count": null,
   "metadata": {},
   "outputs": [],
   "source": [
    "query = values_df \\\n",
    "    .writeStream \\\n",
    "    .outputMode(\"append\") \\\n",
    "    .format(\"console\") \\\n",
    "    .trigger(processingTime='30 seconds') \\\n",
    "    .start()"
   ]
  },
  {
   "cell_type": "code",
   "execution_count": null,
   "metadata": {},
   "outputs": [],
   "source": [
    "query.awaitTermination(30)"
   ]
  },
  {
   "cell_type": "code",
   "execution_count": null,
   "metadata": {},
   "outputs": [],
   "source": [
    "df_parsed = df.selectExpr(\"CAST(value AS STRING) as json_value\") \\\n",
    "    .select(from_json(col(\"json_value\"), schema).alias(\"data\")) \\\n",
    "    .select(\"data.*\")\n"
   ]
  },
  {
   "cell_type": "code",
   "execution_count": null,
   "metadata": {},
   "outputs": [],
   "source": [
    "query = df_parsed.writeStream.outputMode(\"append\").format(\"console\").start()\n",
    "query.awaitTermination()"
   ]
  },
  {
   "cell_type": "code",
   "execution_count": 19,
   "metadata": {},
   "outputs": [
    {
     "name": "stdout",
     "output_type": "stream",
     "text": [
      "+-------+\n",
      "|user_id|\n",
      "+-------+\n",
      "|     A1|\n",
      "|     B2|\n",
      "|     C3|\n",
      "|     D4|\n",
      "+-------+\n",
      "\n"
     ]
    }
   ],
   "source": [
    "def create_spark_session():\n",
    "    \"\"\"\n",
    "    Create a SparkSession.\n",
    "    \"\"\"\n",
    "    spark = SparkSession.builder \\\n",
    "        .appName(\"CreateDataFrameFromDict\") \\\n",
    "        .getOrCreate()\n",
    "    return spark\n",
    "\n",
    "def create_dataframe_from_dict(spark, data):\n",
    "    \"\"\"\n",
    "    Create a DataFrame from a list of dictionaries.\n",
    "    Each dictionary represents a record with a single field `user_id`.\n",
    "    \"\"\"\n",
    "    # Define schema\n",
    "    schema = StructType([StructField(\"user_id\", StringType(), True)])\n",
    "\n",
    "    # Create DataFrame\n",
    "    df = spark.createDataFrame(data, schema)\n",
    "    return df\n",
    "\n",
    "# Sample data\n",
    "data = [\n",
    "    {\"user_id\": \"A1\"},\n",
    "    {\"user_id\": \"B2\"},\n",
    "    {\"user_id\": \"C3\"},\n",
    "    {\"user_id\": \"D4\"}\n",
    "]\n",
    "\n",
    "# Create Spark session\n",
    "spark = create_spark_session()\n",
    "\n",
    "# Create DataFrame from data\n",
    "df = create_dataframe_from_dict(spark, data)\n",
    "\n",
    "# Show DataFrame\n",
    "df.show()"
   ]
  },
  {
   "cell_type": "code",
   "execution_count": 120,
   "metadata": {},
   "outputs": [],
   "source": [
    "from pyspark.sql.functions import udf\n",
    "\n",
    "user_id_mapping = {\"A1\": 2, \"B2\": 3, \"C3\": 1, \"D4\": 0}\n",
    "\n",
    "def process_data(df, user_id_mapping=user_id_mapping):\n",
    "    \"\"\"\n",
    "    Process the DataFrame by mapping user_ids using the provided dictionary.\n",
    "    \"\"\"\n",
    "    def map_user_id(user_id):\n",
    "        return float(user_id_mapping.get(user_id, None))\n",
    "\n",
    "    map_user_id_udf = udf(map_user_id, FloatType())\n",
    "\n",
    "    processed_df = df.withColumn(\"mapped_user_id\", map_user_id_udf(df[\"user_id\"]))\n",
    "\n",
    "    return processed_df"
   ]
  },
  {
   "cell_type": "code",
   "execution_count": null,
   "metadata": {},
   "outputs": [],
   "source": []
  },
  {
   "cell_type": "code",
   "execution_count": 121,
   "metadata": {},
   "outputs": [],
   "source": [
    "preprocessed_data = process_data(df)"
   ]
  },
  {
   "cell_type": "code",
   "execution_count": 128,
   "metadata": {},
   "outputs": [
    {
     "data": {
      "text/plain": [
       "DataFrame[user_id: string, mapped_user_id: float]"
      ]
     },
     "execution_count": 128,
     "metadata": {},
     "output_type": "execute_result"
    }
   ],
   "source": [
    "preprocessed_data"
   ]
  },
  {
   "cell_type": "code",
   "execution_count": 133,
   "metadata": {},
   "outputs": [],
   "source": [
    "exploded_data = preprocessed_data.withColumn(\"data\", explode_data(preprocessed_data['mapped_user_id']))"
   ]
  },
  {
   "cell_type": "code",
   "execution_count": 134,
   "metadata": {},
   "outputs": [
    {
     "name": "stdout",
     "output_type": "stream",
     "text": [
      "+-------+--------------+---------------+\n",
      "|user_id|mapped_user_id|           data|\n",
      "+-------+--------------+---------------+\n",
      "|     A1|           2.0|[0.0, 1.0, 2.0]|\n",
      "|     B2|           3.0|[0.0, 1.0, 2.0]|\n",
      "|     C3|           1.0|[0.0, 1.0, 2.0]|\n",
      "|     D4|           0.0|[0.0, 1.0, 2.0]|\n",
      "+-------+--------------+---------------+\n",
      "\n"
     ]
    }
   ],
   "source": [
    "exploded_data.show()"
   ]
  },
  {
   "cell_type": "code",
   "execution_count": 136,
   "metadata": {},
   "outputs": [
    {
     "name": "stdout",
     "output_type": "stream",
     "text": [
      "+---+\n",
      "|col|\n",
      "+---+\n",
      "|0.0|\n",
      "|1.0|\n",
      "|2.0|\n",
      "|0.0|\n",
      "|1.0|\n",
      "|2.0|\n",
      "|0.0|\n",
      "|1.0|\n",
      "|2.0|\n",
      "|0.0|\n",
      "|1.0|\n",
      "|2.0|\n",
      "+---+\n",
      "\n"
     ]
    }
   ],
   "source": [
    "from pyspark.sql.functions import explode\n",
    "exploded_data.select(explode(exploded_data.data)).show()"
   ]
  },
  {
   "cell_type": "code",
   "execution_count": 129,
   "metadata": {},
   "outputs": [],
   "source": [
    "def explode_data(df):\n",
    "    data_list_udf = udf(lambda mapped_user_id: [0., 1., 2.], ArrayType(FloatType()))\n",
    "    return data_list_udf(df)"
   ]
  },
  {
   "cell_type": "code",
   "execution_count": 124,
   "metadata": {},
   "outputs": [
    {
     "data": {
      "text/plain": [
       "Column<'<lambda>(mapped_user_id)'>"
      ]
     },
     "execution_count": 124,
     "metadata": {},
     "output_type": "execute_result"
    }
   ],
   "source": [
    "explode_data(preprocessed_data)"
   ]
  },
  {
   "cell_type": "code",
   "execution_count": 83,
   "metadata": {},
   "outputs": [
    {
     "name": "stdout",
     "output_type": "stream",
     "text": [
      "[MONGO] Connection successful\n"
     ]
    }
   ],
   "source": [
    "import torch\n",
    "import io\n",
    "import numpy as np\n",
    "from pymongo import MongoClient\n",
    "from pymongo.errors import OperationFailure\n",
    "\n",
    "MONGODB_HOST = os.getenv(\"MONGODB_HOST\", default=\"localhost\")\n",
    "MONGODB_PORT = 27017\n",
    "MONGODB_AUTHSOURCE = \"admin\"\n",
    "MONGODB_USERNAME = \"root\"\n",
    "MONGODB_PASSWORD = \"root\"\n",
    "\n",
    "def mongo_client(*args, **kwargs):\n",
    "    try:\n",
    "        client = MongoClient(\n",
    "            host=MONGODB_HOST,\n",
    "            port=MONGODB_PORT,\n",
    "            authSource=MONGODB_AUTHSOURCE,\n",
    "            username=MONGODB_USERNAME,\n",
    "            password=MONGODB_PASSWORD\n",
    "        )\n",
    "        db = client.admin\n",
    "        client.server_info()\n",
    "        db.create_collection(\"model_versions\", check_exists=False)\n",
    "\n",
    "        print(\"[MONGO] Connection successful\")\n",
    "        return db\n",
    "\n",
    "    except OperationFailure as e:\n",
    "        print(\"[MONGO] Connection failed:\", e)\n",
    "    except Exception:\n",
    "        print(\"[MONGO] Connection failed\")\n",
    "\n",
    "client = mongo_client()\n",
    "\n",
    "def _get_latest_model_version_document(client):\n",
    "    latest_version = client['model_versions'].find_one({}, sort=[(\"timestamp\", -1)])\n",
    "    return latest_version\n",
    "\n",
    "def _get_model_buffer(model_version_document):\n",
    "    #return model_version[\"binary\"]\n",
    "    return io.BytesIO(model_version_document[\"binary\"])\n",
    "\n",
    "def load_model(client):\n",
    "    latest_version_document = _get_latest_model_version_document(client=client)\n",
    "    model_buffer = _get_model_buffer(model_version_document=latest_version_document)\n",
    "\n",
    "    # Assuming 'path' is the buffer containing the model's binary data\n",
    "    print(f'Loading model: {latest_version_document[\"model\"]}:v{latest_version_document[\"version\"]}-{latest_version_document[\"timestamp\"]}')\n",
    "    model = torch.jit.load(model_buffer, map_location='cpu')\n",
    "    return model\n",
    "\n",
    "def build_input_tensor(inputs: np.ndarray) -> torch.Tensor:\n",
    "    return torch.tensor(inputs, dtype=torch.long)"
   ]
  },
  {
   "cell_type": "code",
   "execution_count": 84,
   "metadata": {},
   "outputs": [],
   "source": [
    "import numpy as np\n",
    "import torch\n",
    "\n",
    "# def predict_batch_fn():\n",
    "#     print(\"dupa\")\n",
    "#     def predict(inputs: np.ndarray) -> np.ndarray:\n",
    "#         torch_inputs = torch.from_numpy(inputs)\n",
    "#         return (torch_inputs * -1).numpy()\n",
    "    \n",
    "#     return predict\n",
    "\n",
    "\n",
    "def predict_batch_fn():\n",
    "    # load model from checkpoint\n",
    "    import torch    \n",
    "    device = torch.device(\"cpu\")\n",
    "    client = mongo_client()\n",
    "    model = load_model(client).to(device)\n",
    "\n",
    "    # define predict function in terms of numpy arrays\n",
    "    def predict(inputs: np.ndarray) -> np.ndarray:\n",
    "        inputs = np.stack([inputs, inputs, inputs], axis=1)\n",
    "        torch_inputs = build_input_tensor(inputs).to(device)\n",
    "        outputs = model(torch_inputs)\n",
    "        return outputs.cpu().detach().numpy()\n",
    "    \n",
    "    return predict"
   ]
  },
  {
   "cell_type": "code",
   "execution_count": 100,
   "metadata": {},
   "outputs": [
    {
     "data": {
      "text/plain": [
       "[Row(mapped_user_id=2),\n",
       " Row(mapped_user_id=3),\n",
       " Row(mapped_user_id=1),\n",
       " Row(mapped_user_id=0)]"
      ]
     },
     "execution_count": 100,
     "metadata": {},
     "output_type": "execute_result"
    }
   ],
   "source": [
    "preprocessed_data.select(\"mapped_user_id\").collect()"
   ]
  },
  {
   "cell_type": "code",
   "execution_count": 104,
   "metadata": {},
   "outputs": [
    {
     "name": "stdout",
     "output_type": "stream",
     "text": [
      "+-------+--------------+\n",
      "|user_id|mapped_user_id|\n",
      "+-------+--------------+\n",
      "|     A1|             2|\n",
      "|     B2|             3|\n",
      "|     C3|             1|\n",
      "|     D4|             0|\n",
      "+-------+--------------+\n",
      "\n"
     ]
    }
   ],
   "source": [
    "preprocessed_data.show()"
   ]
  },
  {
   "cell_type": "code",
   "execution_count": 101,
   "metadata": {},
   "outputs": [],
   "source": [
    "make_recommendations = predict_batch_udf(predict_batch_fn,\n",
    "                        input_tensor_shapes=[[1]],\n",
    "                        return_type=ArrayType(FloatType()),\n",
    "                        batch_size=7)"
   ]
  },
  {
   "cell_type": "code",
   "execution_count": 102,
   "metadata": {},
   "outputs": [],
   "source": [
    "preds = preprocessed_data.withColumn(\"recommendations\", make_recommendations('mapped_user_id'))"
   ]
  },
  {
   "cell_type": "code",
   "execution_count": 103,
   "metadata": {},
   "outputs": [
    {
     "ename": "PythonException",
     "evalue": "\n  An exception was thrown from the Python worker. Please see the stack trace below.\nTraceback (most recent call last):\n  File \"c:\\Users\\Milosz\\AppData\\Local\\pypoetry\\Cache\\virtualenvs\\recsys-streaming-ml-Mj1TWbkU-py3.10\\lib\\site-packages\\pyspark\\ml\\functions.py\", line 802, in predict\n    single_input = _validate_and_transform_single_input(\n  File \"C:\\Spark\\spark-3.5.1-bin-hadoop3\\python\\lib\\pyspark.zip\\pyspark\\ml\\functions.py\", line 242, in _validate_and_transform_single_input\n    raise ValueError(\"Invalid input_tensor_shape for scalar column.\")\nValueError: Invalid input_tensor_shape for scalar column.\n",
     "output_type": "error",
     "traceback": [
      "\u001b[1;31m---------------------------------------------------------------------------\u001b[0m",
      "\u001b[1;31mPythonException\u001b[0m                           Traceback (most recent call last)",
      "Cell \u001b[1;32mIn[103], line 1\u001b[0m\n\u001b[1;32m----> 1\u001b[0m \u001b[43mpreds\u001b[49m\u001b[38;5;241;43m.\u001b[39;49m\u001b[43mcollect\u001b[49m\u001b[43m(\u001b[49m\u001b[43m)\u001b[49m\n",
      "File \u001b[1;32mc:\\Users\\Milosz\\AppData\\Local\\pypoetry\\Cache\\virtualenvs\\recsys-streaming-ml-Mj1TWbkU-py3.10\\lib\\site-packages\\pyspark\\sql\\dataframe.py:1261\u001b[0m, in \u001b[0;36mDataFrame.collect\u001b[1;34m(self)\u001b[0m\n\u001b[0;32m   1241\u001b[0m \u001b[38;5;250m\u001b[39m\u001b[38;5;124;03m\"\"\"Returns all the records as a list of :class:`Row`.\u001b[39;00m\n\u001b[0;32m   1242\u001b[0m \n\u001b[0;32m   1243\u001b[0m \u001b[38;5;124;03m.. versionadded:: 1.3.0\u001b[39;00m\n\u001b[1;32m   (...)\u001b[0m\n\u001b[0;32m   1258\u001b[0m \u001b[38;5;124;03m[Row(age=14, name='Tom'), Row(age=23, name='Alice'), Row(age=16, name='Bob')]\u001b[39;00m\n\u001b[0;32m   1259\u001b[0m \u001b[38;5;124;03m\"\"\"\u001b[39;00m\n\u001b[0;32m   1260\u001b[0m \u001b[38;5;28;01mwith\u001b[39;00m SCCallSiteSync(\u001b[38;5;28mself\u001b[39m\u001b[38;5;241m.\u001b[39m_sc):\n\u001b[1;32m-> 1261\u001b[0m     sock_info \u001b[38;5;241m=\u001b[39m \u001b[38;5;28;43mself\u001b[39;49m\u001b[38;5;241;43m.\u001b[39;49m\u001b[43m_jdf\u001b[49m\u001b[38;5;241;43m.\u001b[39;49m\u001b[43mcollectToPython\u001b[49m\u001b[43m(\u001b[49m\u001b[43m)\u001b[49m\n\u001b[0;32m   1262\u001b[0m \u001b[38;5;28;01mreturn\u001b[39;00m \u001b[38;5;28mlist\u001b[39m(_load_from_socket(sock_info, BatchedSerializer(CPickleSerializer())))\n",
      "File \u001b[1;32mc:\\Users\\Milosz\\AppData\\Local\\pypoetry\\Cache\\virtualenvs\\recsys-streaming-ml-Mj1TWbkU-py3.10\\lib\\site-packages\\py4j\\java_gateway.py:1322\u001b[0m, in \u001b[0;36mJavaMember.__call__\u001b[1;34m(self, *args)\u001b[0m\n\u001b[0;32m   1316\u001b[0m command \u001b[38;5;241m=\u001b[39m proto\u001b[38;5;241m.\u001b[39mCALL_COMMAND_NAME \u001b[38;5;241m+\u001b[39m\\\n\u001b[0;32m   1317\u001b[0m     \u001b[38;5;28mself\u001b[39m\u001b[38;5;241m.\u001b[39mcommand_header \u001b[38;5;241m+\u001b[39m\\\n\u001b[0;32m   1318\u001b[0m     args_command \u001b[38;5;241m+\u001b[39m\\\n\u001b[0;32m   1319\u001b[0m     proto\u001b[38;5;241m.\u001b[39mEND_COMMAND_PART\n\u001b[0;32m   1321\u001b[0m answer \u001b[38;5;241m=\u001b[39m \u001b[38;5;28mself\u001b[39m\u001b[38;5;241m.\u001b[39mgateway_client\u001b[38;5;241m.\u001b[39msend_command(command)\n\u001b[1;32m-> 1322\u001b[0m return_value \u001b[38;5;241m=\u001b[39m \u001b[43mget_return_value\u001b[49m\u001b[43m(\u001b[49m\n\u001b[0;32m   1323\u001b[0m \u001b[43m    \u001b[49m\u001b[43manswer\u001b[49m\u001b[43m,\u001b[49m\u001b[43m \u001b[49m\u001b[38;5;28;43mself\u001b[39;49m\u001b[38;5;241;43m.\u001b[39;49m\u001b[43mgateway_client\u001b[49m\u001b[43m,\u001b[49m\u001b[43m \u001b[49m\u001b[38;5;28;43mself\u001b[39;49m\u001b[38;5;241;43m.\u001b[39;49m\u001b[43mtarget_id\u001b[49m\u001b[43m,\u001b[49m\u001b[43m \u001b[49m\u001b[38;5;28;43mself\u001b[39;49m\u001b[38;5;241;43m.\u001b[39;49m\u001b[43mname\u001b[49m\u001b[43m)\u001b[49m\n\u001b[0;32m   1325\u001b[0m \u001b[38;5;28;01mfor\u001b[39;00m temp_arg \u001b[38;5;129;01min\u001b[39;00m temp_args:\n\u001b[0;32m   1326\u001b[0m     \u001b[38;5;28;01mif\u001b[39;00m \u001b[38;5;28mhasattr\u001b[39m(temp_arg, \u001b[38;5;124m\"\u001b[39m\u001b[38;5;124m_detach\u001b[39m\u001b[38;5;124m\"\u001b[39m):\n",
      "File \u001b[1;32mc:\\Users\\Milosz\\AppData\\Local\\pypoetry\\Cache\\virtualenvs\\recsys-streaming-ml-Mj1TWbkU-py3.10\\lib\\site-packages\\pyspark\\errors\\exceptions\\captured.py:185\u001b[0m, in \u001b[0;36mcapture_sql_exception.<locals>.deco\u001b[1;34m(*a, **kw)\u001b[0m\n\u001b[0;32m    181\u001b[0m converted \u001b[38;5;241m=\u001b[39m convert_exception(e\u001b[38;5;241m.\u001b[39mjava_exception)\n\u001b[0;32m    182\u001b[0m \u001b[38;5;28;01mif\u001b[39;00m \u001b[38;5;129;01mnot\u001b[39;00m \u001b[38;5;28misinstance\u001b[39m(converted, UnknownException):\n\u001b[0;32m    183\u001b[0m     \u001b[38;5;66;03m# Hide where the exception came from that shows a non-Pythonic\u001b[39;00m\n\u001b[0;32m    184\u001b[0m     \u001b[38;5;66;03m# JVM exception message.\u001b[39;00m\n\u001b[1;32m--> 185\u001b[0m     \u001b[38;5;28;01mraise\u001b[39;00m converted \u001b[38;5;28;01mfrom\u001b[39;00m \u001b[38;5;28;01mNone\u001b[39;00m\n\u001b[0;32m    186\u001b[0m \u001b[38;5;28;01melse\u001b[39;00m:\n\u001b[0;32m    187\u001b[0m     \u001b[38;5;28;01mraise\u001b[39;00m\n",
      "\u001b[1;31mPythonException\u001b[0m: \n  An exception was thrown from the Python worker. Please see the stack trace below.\nTraceback (most recent call last):\n  File \"c:\\Users\\Milosz\\AppData\\Local\\pypoetry\\Cache\\virtualenvs\\recsys-streaming-ml-Mj1TWbkU-py3.10\\lib\\site-packages\\pyspark\\ml\\functions.py\", line 802, in predict\n    single_input = _validate_and_transform_single_input(\n  File \"C:\\Spark\\spark-3.5.1-bin-hadoop3\\python\\lib\\pyspark.zip\\pyspark\\ml\\functions.py\", line 242, in _validate_and_transform_single_input\n    raise ValueError(\"Invalid input_tensor_shape for scalar column.\")\nValueError: Invalid input_tensor_shape for scalar column.\n"
     ]
    }
   ],
   "source": [
    "preds.collect()"
   ]
  },
  {
   "cell_type": "code",
   "execution_count": null,
   "metadata": {},
   "outputs": [],
   "source": [
    "df = spark.read.parquet(\"/path/to/test/data\")\n",
    "preds = df.withColumn(\"preds\", mnist('data')).collect()\n",
    "\n",
    "query = df_parsed.writeStream \\\n",
    "    .outputMode(\"append\") \\\n",
    "    .format(\"console\") \\\n",
    "    #.trigger(processingTime='15 seconds') \\\n",
    "    .start()\n",
    "\n",
    "query.awaitTermination()"
   ]
  }
 ],
 "metadata": {
  "kernelspec": {
   "display_name": "recsys-streaming-ml-Mj1TWbkU-py3.10",
   "language": "python",
   "name": "python3"
  },
  "language_info": {
   "codemirror_mode": {
    "name": "ipython",
    "version": 3
   },
   "file_extension": ".py",
   "mimetype": "text/x-python",
   "name": "python",
   "nbconvert_exporter": "python",
   "pygments_lexer": "ipython3",
   "version": "3.10.4"
  }
 },
 "nbformat": 4,
 "nbformat_minor": 2
}
